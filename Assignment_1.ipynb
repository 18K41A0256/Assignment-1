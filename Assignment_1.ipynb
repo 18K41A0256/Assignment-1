{
  "nbformat": 4,
  "nbformat_minor": 0,
  "metadata": {
    "colab": {
      "name": "Assignment-1",
      "provenance": [],
      "authorship_tag": "ABX9TyNLWa+Su7b5ISAbajWudhSL",
      "include_colab_link": true
    },
    "kernelspec": {
      "name": "python3",
      "display_name": "Python 3"
    }
  },
  "cells": [
    {
      "cell_type": "markdown",
      "metadata": {
        "id": "view-in-github",
        "colab_type": "text"
      },
      "source": [
        "<a href=\"https://colab.research.google.com/github/18K41A0256/Assignment-1/blob/master/Assignment_1.ipynb\" target=\"_parent\"><img src=\"https://colab.research.google.com/assets/colab-badge.svg\" alt=\"Open In Colab\"/></a>"
      ]
    },
    {
      "cell_type": "code",
      "metadata": {
        "id": "zICotiVNz_YL",
        "colab_type": "code",
        "colab": {
          "base_uri": "https://localhost:8080/",
          "height": 68
        },
        "outputId": "73d07385-5409-4a6f-9a21-82204443f299"
      },
      "source": [
        "year= int(input(\"Enter your year of birth to get zodiac sign \\n\"))\n",
        "if year%12==0:\n",
        "    print(\"monkey\")\n",
        "elif year%12==1:  \n",
        "    print(\"Rooster\")\n",
        "elif year%12==2:\n",
        "    print(\"Dog\")\n",
        "elif year%12==3:\n",
        "    print(\"Pig\")\n",
        "elif year%12==4:\n",
        "    print(\"Rat\")\n",
        "elif year%12==5:\n",
        "    print(\"Ox\")\n",
        "elif year%12==6:\n",
        "    print(\"Tiger\")\n",
        "elif year%12==7:\n",
        "    print(\"Rabbit\")\n",
        "elif year%12==8:\n",
        "    print(\"Dragon\")\n",
        "elif year%12==9:\n",
        "    print(\"Snake\")\n",
        "elif year%12==10:\n",
        "    print(\"Horse\")\n",
        "elif year%12==11:\n",
        "    print(\"Sheep\")        \n",
        "    \n"
      ],
      "execution_count": null,
      "outputs": [
        {
          "output_type": "stream",
          "text": [
            "Enter your year of birth to get zodiac sign \n",
            "28\n",
            "Rat\n"
          ],
          "name": "stdout"
        }
      ]
    },
    {
      "cell_type": "code",
      "metadata": {
        "id": "eDEgpN23k27B",
        "colab_type": "code",
        "colab": {}
      },
      "source": [
        ""
      ],
      "execution_count": null,
      "outputs": []
    },
    {
      "cell_type": "code",
      "metadata": {
        "id": "-vKz-IxyCqU0",
        "colab_type": "code",
        "colab": {
          "base_uri": "https://localhost:8080/",
          "height": 68
        },
        "outputId": "b92db2db-afa6-4de2-ef68-d97f729fa684"
      },
      "source": [
        "distance=int(input(\"Distance to be travel\"))\n",
        "weight=int(input(\"weight of the goods\"))\n",
        "if distance>=500:\n",
        "   if weight>=100:\n",
        "      amount=distance*5\n",
        "   elif weight>=10:\n",
        "      if weight<=100:\n",
        "         amount=distance*6\n",
        "   elif weight<10:\n",
        "       amount=distance*7\n",
        "elif distance<500:\n",
        "       if weight>=100:\n",
        "         amount=distance*8\n",
        "elif weight<100:\n",
        "       amount=distance*5\n",
        "print(\"amount to be charged:{}/-\".format(amount))"
      ],
      "execution_count": null,
      "outputs": [
        {
          "output_type": "stream",
          "text": [
            "Distance to be travel500\n",
            "weight of the goods50\n",
            "amount to be charged:3000/-\n"
          ],
          "name": "stdout"
        }
      ]
    },
    {
      "cell_type": "code",
      "metadata": {
        "id": "Tq3n5YKHKx43",
        "colab_type": "code",
        "colab": {}
      },
      "source": [
        ""
      ],
      "execution_count": null,
      "outputs": []
    },
    {
      "cell_type": "code",
      "metadata": {
        "id": "guyIWP-aF3Kr",
        "colab_type": "code",
        "colab": {
          "base_uri": "https://localhost:8080/",
          "height": 68
        },
        "outputId": "db1a9f39-f0b7-42a5-8853-d0b400425439"
      },
      "source": [
        "s=input('type seat :')\n",
        "p=input('payment mode :')\n",
        "if p=='cash':\n",
        "  if s=='stalls':\n",
        "    total=625\n",
        "  elif s=='circle':\n",
        "      total=750\n",
        "  elif s=='upper class':\n",
        "      total=850\n",
        "  elif s=='bill':\n",
        "      total=1000\n",
        "  d=total-total*0.1\n",
        "elif p=='credit':\n",
        "  if s=='stalls':\n",
        "       total=625\n",
        "  elif s=='upper class':\n",
        "     total=850\n",
        "  elif s=='bill':\n",
        "     total=1000\n",
        "  d=total-total*0.05\n",
        "print('amount payable',d)"
      ],
      "execution_count": null,
      "outputs": [
        {
          "output_type": "stream",
          "text": [
            "type seat :stalls\n",
            "payment mode :credit\n",
            "amount payable 593.75\n"
          ],
          "name": "stdout"
        }
      ]
    },
    {
      "cell_type": "code",
      "metadata": {
        "id": "j9Y0m4a1LBuE",
        "colab_type": "code",
        "colab": {
          "base_uri": "https://localhost:8080/",
          "height": 85
        },
        "outputId": "a062a27a-59ee-43de-8e5b-1838bbab2918"
      },
      "source": [
        "m=int(input('enter water in kgs : '))\n",
        "it=int(input('enter initial temperature in celsius :'))\n",
        "ft=int(input('enter final temperature in celsius : '))\n",
        "q=m*(ft-it)*4814\n",
        "print(q,\"KJ ENERGY IS USED\")\n"
      ],
      "execution_count": null,
      "outputs": [
        {
          "output_type": "stream",
          "text": [
            "enter water in kgs : 600\n",
            "enter initial temperature in celsius :40\n",
            "enter final temperature in celsius : 70\n",
            "86652000 KJ ENERGY IS USED\n"
          ],
          "name": "stdout"
        }
      ]
    },
    {
      "cell_type": "code",
      "metadata": {
        "id": "kjwiI6rUl-Ax",
        "colab_type": "code",
        "colab": {
          "base_uri": "https://localhost:8080/",
          "height": 51
        },
        "outputId": "e20f9494-3ff1-4898-b9ed-c5b29594ade6"
      },
      "source": [
        "month=input('enter month : ')\n",
        "if month=='december' or month=='january' or month=='february':\n",
        "      print('winter')\n",
        "elif month=='march' or month=='april' or month=='may':\n",
        "      print('spring')\n",
        "elif month=='june' or month=='july' or month=='august':\n",
        "      print('summer')\n",
        "elif month=='september' or month=='october' or month=='november':\n",
        "      print('autumn')\n",
        "else:\n",
        "  print('check your spelling')"
      ],
      "execution_count": null,
      "outputs": [
        {
          "output_type": "stream",
          "text": [
            "enter month : march\n",
            "spring\n"
          ],
          "name": "stdout"
        }
      ]
    },
    {
      "cell_type": "code",
      "metadata": {
        "id": "hoa4HO1RpfMX",
        "colab_type": "code",
        "colab": {
          "base_uri": "https://localhost:8080/",
          "height": 85
        },
        "outputId": "8f2821e5-7306-4aef-ed70-ce41bcc6ae6d"
      },
      "source": [
        "h=float(input('enter height in inches:'))\n",
        "w=float(input('enter weight in pounds:'))\n",
        "bmi=(w*703)/(h*2);\n",
        "if bmi<18.5:\n",
        "  print('your bmi is :',bmi)\n",
        "  print('you are under weight')\n",
        "elif bmi>18.5 and bmi<30:\n",
        "  print('your bmi is :',bmi)\n",
        "  print('you are normal weight')\n",
        "elif bmi>25 and bmi<30:\n",
        "  print('your bmi is :',bmi)\n",
        "  print('you are over weight')\n",
        "else:\n",
        "  print('your bmi is :',bmi)\n",
        "  print('you are obese')"
      ],
      "execution_count": null,
      "outputs": [
        {
          "output_type": "stream",
          "text": [
            "enter height in inches:5.9\n",
            "enter weight in pounds:75\n",
            "your bmi is : 4468.22033898305\n",
            "you are obese\n"
          ],
          "name": "stdout"
        }
      ]
    },
    {
      "cell_type": "code",
      "metadata": {
        "id": "IcrGEjkirZgs",
        "colab_type": "code",
        "colab": {
          "base_uri": "https://localhost:8080/",
          "height": 51
        },
        "outputId": "61e42d84-854f-4c32-fd55-4c491a5baaa5"
      },
      "source": [
        "num=int(input('enter a number between 100 and 1000 :'))\n",
        "sum=v=0\n",
        "while(num>0):\n",
        "  v=num%10\n",
        "  sum=sum+v\n",
        "  num=num/10\n",
        "print(sum)"
      ],
      "execution_count": null,
      "outputs": [
        {
          "output_type": "stream",
          "text": [
            "enter a number between 100 and 1000 :600\n",
            "6.666666666666667\n"
          ],
          "name": "stdout"
        }
      ]
    },
    {
      "cell_type": "code",
      "metadata": {
        "id": "ORwa_4MOuT6M",
        "colab_type": "code",
        "colab": {
          "base_uri": "https://localhost:8080/",
          "height": 1000
        },
        "outputId": "6534c95a-7623-4145-fd30-a995514fe917"
      },
      "source": [
        "maximum=int(input(\"enter the maximum value:\"))\n",
        "print(\"palindrome number between 1 and {}\".format(maximum))\n",
        "for num in range(1,maximum+1):\n",
        "  temp=num\n",
        "  reverse=0\n",
        "  while temp>0:\n",
        "    reminder=temp%10\n",
        "    reverse=(reverse*10)+reminder\n",
        "    temp=temp//10\n",
        "    if num==reverse:\n",
        "      print(num)"
      ],
      "execution_count": null,
      "outputs": [
        {
          "output_type": "stream",
          "text": [
            "enter the maximum value:500\n",
            "palindrome number between 1 and 500\n",
            "1\n",
            "2\n",
            "3\n",
            "4\n",
            "5\n",
            "6\n",
            "7\n",
            "8\n",
            "9\n",
            "11\n",
            "22\n",
            "33\n",
            "44\n",
            "55\n",
            "66\n",
            "77\n",
            "88\n",
            "99\n",
            "101\n",
            "111\n",
            "121\n",
            "131\n",
            "141\n",
            "151\n",
            "161\n",
            "171\n",
            "181\n",
            "191\n",
            "202\n",
            "212\n",
            "222\n",
            "232\n",
            "242\n",
            "252\n",
            "262\n",
            "272\n",
            "282\n",
            "292\n",
            "303\n",
            "313\n",
            "323\n",
            "333\n",
            "343\n",
            "353\n",
            "363\n",
            "373\n",
            "383\n",
            "393\n",
            "404\n",
            "414\n",
            "424\n",
            "434\n",
            "444\n",
            "454\n",
            "464\n",
            "474\n",
            "484\n",
            "494\n"
          ],
          "name": "stdout"
        }
      ]
    },
    {
      "cell_type": "code",
      "metadata": {
        "id": "W03r0TgJwcA9",
        "colab_type": "code",
        "colab": {
          "base_uri": "https://localhost:8080/",
          "height": 187
        },
        "outputId": "12fc2280-a594-406c-c761-07ab4d0144db"
      },
      "source": [
        "maximum=int(input(\"enter maximum number:\"))\n",
        "print(\"palindrome number between 1 and {}\". format(maximum))\n",
        "for num in range(1,maximum+1):\n",
        "  s=0\n",
        "  temp=num\n",
        "  while temp>0:\n",
        "    digit=temp%10\n",
        "    s=s+digit**3\n",
        "    temp=temp//10\n",
        "    if num==s:\n",
        "      print(num)"
      ],
      "execution_count": null,
      "outputs": [
        {
          "output_type": "stream",
          "text": [
            "enter maximum number:500\n",
            "palindrome number between 1 and 500\n",
            "1\n",
            "64\n",
            "125\n",
            "153\n",
            "216\n",
            "370\n",
            "371\n",
            "407\n"
          ],
          "name": "stdout"
        }
      ]
    },
    {
      "cell_type": "code",
      "metadata": {
        "id": "y5rd7I40x9r9",
        "colab_type": "code",
        "colab": {
          "base_uri": "https://localhost:8080/",
          "height": 833
        },
        "outputId": "ce70536a-bd81-46cf-e8bc-9eb5f49955a6"
      },
      "source": [
        "maximum=int(input(\"enter maximum number:\"))\n",
        "for num in range(1, maximum+1):\n",
        "   if num%3==0 and num%5==0:\n",
        "      print(\"{}:Fizz buzz\".format(num))\n",
        "   elif num%5==0:\n",
        "     print(\"{}:Buzz\".format(num))\n",
        "   elif num%3==0:\n",
        "     print(\"{}:Fizz\".format(num))"
      ],
      "execution_count": null,
      "outputs": [
        {
          "output_type": "stream",
          "text": [
            "enter maximum number:100\n",
            "3:Fizz\n",
            "5:Buzz\n",
            "6:Fizz\n",
            "9:Fizz\n",
            "10:Buzz\n",
            "12:Fizz\n",
            "15:Fizz buzz\n",
            "18:Fizz\n",
            "20:Buzz\n",
            "21:Fizz\n",
            "24:Fizz\n",
            "25:Buzz\n",
            "27:Fizz\n",
            "30:Fizz buzz\n",
            "33:Fizz\n",
            "35:Buzz\n",
            "36:Fizz\n",
            "39:Fizz\n",
            "40:Buzz\n",
            "42:Fizz\n",
            "45:Fizz buzz\n",
            "48:Fizz\n",
            "50:Buzz\n",
            "51:Fizz\n",
            "54:Fizz\n",
            "55:Buzz\n",
            "57:Fizz\n",
            "60:Fizz buzz\n",
            "63:Fizz\n",
            "65:Buzz\n",
            "66:Fizz\n",
            "69:Fizz\n",
            "70:Buzz\n",
            "72:Fizz\n",
            "75:Fizz buzz\n",
            "78:Fizz\n",
            "80:Buzz\n",
            "81:Fizz\n",
            "84:Fizz\n",
            "85:Buzz\n",
            "87:Fizz\n",
            "90:Fizz buzz\n",
            "93:Fizz\n",
            "95:Buzz\n",
            "96:Fizz\n",
            "99:Fizz\n",
            "100:Buzz\n"
          ],
          "name": "stdout"
        }
      ]
    },
    {
      "cell_type": "code",
      "metadata": {
        "id": "qBhCS2je2mSU",
        "colab_type": "code",
        "colab": {
          "base_uri": "https://localhost:8080/",
          "height": 102
        },
        "outputId": "8889724f-4be8-4dfd-abd2-06b9670175ef"
      },
      "source": [
        "h=int(input('enter height of well in meters :'))\n",
        "u=int(input('enter height of spider climbed :'))\n",
        "d=int(input('enter how deep the spider slipped :'))\n",
        "step=0\n",
        "while h>=u:\n",
        "  step+=1\n",
        "  h=h-(u-d)\n",
        "  step+=1\n",
        "  print('number of steps by spider required to get out of well are:{}'.format(step))"
      ],
      "execution_count": null,
      "outputs": [
        {
          "output_type": "stream",
          "text": [
            "enter height of well in meters :5\n",
            "enter height of spider climbed :4\n",
            "enter how deep the spider slipped :3\n",
            "number of steps by spider required to get out of well are:2\n",
            "number of steps by spider required to get out of well are:4\n"
          ],
          "name": "stdout"
        }
      ]
    }
  ]
}